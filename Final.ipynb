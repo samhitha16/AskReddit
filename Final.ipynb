{
 "cells": [
  {
   "cell_type": "markdown",
   "id": "afa52442",
   "metadata": {},
   "source": [
    "# Ask Reddit"
   ]
  },
  {
   "cell_type": "markdown",
   "id": "7d8b00a1",
   "metadata": {},
   "source": [
    "### NLP Classification problem for troll detection "
   ]
  },
  {
   "cell_type": "code",
   "execution_count": 52,
   "id": "d124dd23",
   "metadata": {},
   "outputs": [],
   "source": [
    "import numpy as np \n",
    "import pandas as pd\n",
    "import os\n",
    "import math\n",
    "import matplotlib.pyplot as plt\n",
    "import nltk\n",
    "import re"
   ]
  },
  {
   "cell_type": "code",
   "execution_count": 53,
   "id": "9c37bfd5",
   "metadata": {},
   "outputs": [
    {
     "data": {
      "text/html": [
       "<div>\n",
       "<style scoped>\n",
       "    .dataframe tbody tr th:only-of-type {\n",
       "        vertical-align: middle;\n",
       "    }\n",
       "\n",
       "    .dataframe tbody tr th {\n",
       "        vertical-align: top;\n",
       "    }\n",
       "\n",
       "    .dataframe thead th {\n",
       "        text-align: right;\n",
       "    }\n",
       "</style>\n",
       "<table border=\"1\" class=\"dataframe\">\n",
       "  <thead>\n",
       "    <tr style=\"text-align: right;\">\n",
       "      <th></th>\n",
       "      <th>qid</th>\n",
       "      <th>question_text</th>\n",
       "      <th>target</th>\n",
       "    </tr>\n",
       "  </thead>\n",
       "  <tbody>\n",
       "    <tr>\n",
       "      <th>0</th>\n",
       "      <td>a3dee568776c08512c89</td>\n",
       "      <td>What is the role of Lua in Civ4?</td>\n",
       "      <td>0</td>\n",
       "    </tr>\n",
       "    <tr>\n",
       "      <th>1</th>\n",
       "      <td>bdb84f519e7b46e7b7bb</td>\n",
       "      <td>What are important chapters in Kannada for 10 ...</td>\n",
       "      <td>0</td>\n",
       "    </tr>\n",
       "    <tr>\n",
       "      <th>2</th>\n",
       "      <td>29c88db470e2eb5c97ad</td>\n",
       "      <td>Do musicians get royalties from YouTube?</td>\n",
       "      <td>0</td>\n",
       "    </tr>\n",
       "    <tr>\n",
       "      <th>3</th>\n",
       "      <td>3387d99bf2c3227ae8f1</td>\n",
       "      <td>What is the difference between Scaling Social ...</td>\n",
       "      <td>0</td>\n",
       "    </tr>\n",
       "    <tr>\n",
       "      <th>4</th>\n",
       "      <td>e79fa5038f765d0f2e7e</td>\n",
       "      <td>Why do elevators go super slow right before th...</td>\n",
       "      <td>0</td>\n",
       "    </tr>\n",
       "  </tbody>\n",
       "</table>\n",
       "</div>"
      ],
      "text/plain": [
       "                    qid                                      question_text  \\\n",
       "0  a3dee568776c08512c89                   What is the role of Lua in Civ4?   \n",
       "1  bdb84f519e7b46e7b7bb  What are important chapters in Kannada for 10 ...   \n",
       "2  29c88db470e2eb5c97ad           Do musicians get royalties from YouTube?   \n",
       "3  3387d99bf2c3227ae8f1  What is the difference between Scaling Social ...   \n",
       "4  e79fa5038f765d0f2e7e  Why do elevators go super slow right before th...   \n",
       "\n",
       "   target  \n",
       "0       0  \n",
       "1       0  \n",
       "2       0  \n",
       "3       0  \n",
       "4       0  "
      ]
     },
     "execution_count": 53,
     "metadata": {},
     "output_type": "execute_result"
    }
   ],
   "source": [
    "#loading train and test data into two different dataframes\n",
    "data = pd.read_csv(\"train.csv\")\n",
    "test_data = pd.read_csv(\"test.csv\")\n",
    "df = pd.DataFrame(data)\n",
    "test_df = pd.DataFrame(test_data)\n",
    "df.head()"
   ]
  },
  {
   "cell_type": "code",
   "execution_count": 4,
   "id": "02079971",
   "metadata": {},
   "outputs": [
    {
     "data": {
      "text/html": [
       "<div>\n",
       "<style scoped>\n",
       "    .dataframe tbody tr th:only-of-type {\n",
       "        vertical-align: middle;\n",
       "    }\n",
       "\n",
       "    .dataframe tbody tr th {\n",
       "        vertical-align: top;\n",
       "    }\n",
       "\n",
       "    .dataframe thead th {\n",
       "        text-align: right;\n",
       "    }\n",
       "</style>\n",
       "<table border=\"1\" class=\"dataframe\">\n",
       "  <thead>\n",
       "    <tr style=\"text-align: right;\">\n",
       "      <th></th>\n",
       "      <th>qid</th>\n",
       "      <th>question_text</th>\n",
       "    </tr>\n",
       "  </thead>\n",
       "  <tbody>\n",
       "    <tr>\n",
       "      <th>0</th>\n",
       "      <td>0a824224322f0a36025f</td>\n",
       "      <td>Why is my fish tank so cloudy?</td>\n",
       "    </tr>\n",
       "    <tr>\n",
       "      <th>1</th>\n",
       "      <td>28af14c4e4777ce1273e</td>\n",
       "      <td>Are AAP supporters/leaders hypocrites?</td>\n",
       "    </tr>\n",
       "    <tr>\n",
       "      <th>2</th>\n",
       "      <td>6892a52c51103dd95044</td>\n",
       "      <td>Can you still get a ticket if you shut off you...</td>\n",
       "    </tr>\n",
       "    <tr>\n",
       "      <th>3</th>\n",
       "      <td>badd9e8886d73fc1fe4e</td>\n",
       "      <td>Why should any liberal or caring person want t...</td>\n",
       "    </tr>\n",
       "    <tr>\n",
       "      <th>4</th>\n",
       "      <td>4ef178f82a465e4804ae</td>\n",
       "      <td>How can I know who got into my PC using anydesk?</td>\n",
       "    </tr>\n",
       "  </tbody>\n",
       "</table>\n",
       "</div>"
      ],
      "text/plain": [
       "                    qid                                      question_text\n",
       "0  0a824224322f0a36025f                     Why is my fish tank so cloudy?\n",
       "1  28af14c4e4777ce1273e             Are AAP supporters/leaders hypocrites?\n",
       "2  6892a52c51103dd95044  Can you still get a ticket if you shut off you...\n",
       "3  badd9e8886d73fc1fe4e  Why should any liberal or caring person want t...\n",
       "4  4ef178f82a465e4804ae   How can I know who got into my PC using anydesk?"
      ]
     },
     "execution_count": 4,
     "metadata": {},
     "output_type": "execute_result"
    }
   ],
   "source": [
    "test_df.head()"
   ]
  },
  {
   "cell_type": "code",
   "execution_count": 6,
   "id": "22057270",
   "metadata": {},
   "outputs": [
    {
     "data": {
      "text/plain": [
       "qid              0\n",
       "question_text    0\n",
       "target           0\n",
       "dtype: int64"
      ]
     },
     "execution_count": 6,
     "metadata": {},
     "output_type": "execute_result"
    }
   ],
   "source": [
    "#Checking for missing data  \n",
    "df.isna().sum()"
   ]
  },
  {
   "cell_type": "code",
   "execution_count": 7,
   "id": "135efd9b",
   "metadata": {},
   "outputs": [
    {
     "data": {
      "text/plain": [
       "qid              0\n",
       "question_text    0\n",
       "dtype: int64"
      ]
     },
     "execution_count": 7,
     "metadata": {},
     "output_type": "execute_result"
    }
   ],
   "source": [
    "test_df.isna().sum()"
   ]
  },
  {
   "cell_type": "code",
   "execution_count": 11,
   "id": "2d045390",
   "metadata": {},
   "outputs": [
    {
     "data": {
      "text/plain": [
       "0         0\n",
       "1         0\n",
       "2         0\n",
       "3         0\n",
       "4         0\n",
       "         ..\n",
       "653056    0\n",
       "653057    0\n",
       "653058    0\n",
       "653059    0\n",
       "653060    0\n",
       "Name: target, Length: 653061, dtype: int64"
      ]
     },
     "execution_count": 11,
     "metadata": {},
     "output_type": "execute_result"
    }
   ],
   "source": [
    "df_target = df['target']\n",
    "df_qid = df['qid']\n",
    "df.pop('target')#not needed in training df_qid = df['qid']"
   ]
  },
  {
   "cell_type": "code",
   "execution_count": 12,
   "id": "e1de2364",
   "metadata": {},
   "outputs": [
    {
     "name": "stdout",
     "output_type": "stream",
     "text": [
      "0                          What is the role of Lua in Civ4?\n",
      "1         What are important chapters in Kannada for 10 ...\n",
      "2                  Do musicians get royalties from YouTube?\n",
      "3         What is the difference between Scaling Social ...\n",
      "4         Why do elevators go super slow right before th...\n",
      "                                ...                        \n",
      "653056    Which coaching centre is best in Delhi for IAS...\n",
      "653057    Is their any API to check CIBIL score and down...\n",
      "653058    In paranormal shows, why do spirits talk to me...\n",
      "653059    How does Josh Gordon have such well developed ...\n",
      "653060           In how many ways methane can be extracted?\n",
      "Name: question_text, Length: 653061, dtype: object\n",
      "0                            Why is my fish tank so cloudy?\n",
      "1                    Are AAP supporters/leaders hypocrites?\n",
      "2         Can you still get a ticket if you shut off you...\n",
      "3         Why should any liberal or caring person want t...\n",
      "4          How can I know who got into my PC using anydesk?\n",
      "                                ...                        \n",
      "653056    Can we directly apply for Facebook market spec...\n",
      "653057                What we do to remind physics concept?\n",
      "653058                        Is rooting Lenovo A269i safe?\n",
      "653059                  What is the longest river of India?\n",
      "653060    What should you do if somehow you find yoursel...\n",
      "Name: question_text, Length: 653061, dtype: object\n"
     ]
    }
   ],
   "source": [
    "#Sperating the question_text column for preprocessing\n",
    "df_text = df['question_text']\n",
    "print(df_text)\n",
    "test_df_text = test_df['question_text']\n",
    "print(test_df_text)"
   ]
  },
  {
   "cell_type": "markdown",
   "id": "2ba7b72a",
   "metadata": {},
   "source": [
    "### Prepocessing"
   ]
  },
  {
   "cell_type": "markdown",
   "id": "2db868ad",
   "metadata": {},
   "source": [
    "#### 1) Removing puncuation"
   ]
  },
  {
   "cell_type": "code",
   "execution_count": 23,
   "id": "11c4660e",
   "metadata": {},
   "outputs": [
    {
     "name": "stdout",
     "output_type": "stream",
     "text": [
      "0                           What is the role of Lua in Civ4\n",
      "1         What are important chapters in Kannada for 10 ...\n",
      "2                   Do musicians get royalties from YouTube\n",
      "3         What is the difference between Scaling Social ...\n",
      "4         Why do elevators go super slow right before th...\n",
      "                                ...                        \n",
      "653056    Which coaching centre is best in Delhi for IAS...\n",
      "653057    Is their any API to check CIBIL score and down...\n",
      "653058    In paranormal shows why do spirits talk to med...\n",
      "653059    How does Josh Gordon have such well developed abs\n",
      "653060            In how many ways methane can be extracted\n",
      "Name: question_text, Length: 653061, dtype: object\n"
     ]
    }
   ],
   "source": [
    "import string\n",
    "string.punctuation\n",
    "def remove_punch(text):\n",
    "    text_non = \"\".join([char for char in text if char not in string.punctuation])\n",
    "    return text_non\n",
    "df_text['removing'] = df['question_text'].apply(lambda x: remove_punch(x)) \n",
    "print(df_text['removing'])"
   ]
  },
  {
   "cell_type": "code",
   "execution_count": 24,
   "id": "5be32a9b",
   "metadata": {},
   "outputs": [
    {
     "name": "stdout",
     "output_type": "stream",
     "text": [
      "0                             Why is my fish tank so cloudy\n",
      "1                      Are AAP supportersleaders hypocrites\n",
      "2         Can you still get a ticket if you shut off you...\n",
      "3         Why should any liberal or caring person want t...\n",
      "4           How can I know who got into my PC using anydesk\n",
      "                                ...                        \n",
      "653056    Can we directly apply for Facebook market spec...\n",
      "653057                 What we do to remind physics concept\n",
      "653058                         Is rooting Lenovo A269i safe\n",
      "653059                   What is the longest river of India\n",
      "653060    What should you do if somehow you find yoursel...\n",
      "Name: question_text, Length: 653061, dtype: object\n"
     ]
    }
   ],
   "source": [
    "test_df_text['removing'] = test_df['question_text'].apply(lambda x: remove_punch(x)) \n",
    "print(test_df_text['removing'])"
   ]
  },
  {
   "cell_type": "markdown",
   "id": "4af99ef3",
   "metadata": {},
   "source": [
    "#### 2) Tokenizing"
   ]
  },
  {
   "cell_type": "code",
   "execution_count": 25,
   "id": "8ae8c1c5",
   "metadata": {},
   "outputs": [
    {
     "name": "stdout",
     "output_type": "stream",
     "text": [
      "0                  [what, is, the, role, of, lua, in, civ4]\n",
      "1         [what, are, important, chapters, in, kannada, ...\n",
      "2            [do, musicians, get, royalties, from, youtube]\n",
      "3         [what, is, the, difference, between, scaling, ...\n",
      "4         [why, do, elevators, go, super, slow, right, b...\n",
      "                                ...                        \n",
      "653056    [which, coaching, centre, is, best, in, delhi,...\n",
      "653057    [is, their, any, api, to, check, cibil, score,...\n",
      "653058    [in, paranormal, shows, why, do, spirits, talk...\n",
      "653059    [how, does, josh, gordon, have, such, well, de...\n",
      "653060    [in, how, many, ways, methane, can, be, extrac...\n",
      "Name: question_text, Length: 653061, dtype: object\n",
      "0                     [why, is, my, fish, tank, so, cloudy]\n",
      "1                 [are, aap, supportersleaders, hypocrites]\n",
      "2         [can, you, still, get, a, ticket, if, you, shu...\n",
      "3         [why, should, any, liberal, or, caring, person...\n",
      "4         [how, can, i, know, who, got, into, my, pc, us...\n",
      "                                ...                        \n",
      "653056    [can, we, directly, apply, for, facebook, mark...\n",
      "653057         [what, we, do, to, remind, physics, concept]\n",
      "653058                   [is, rooting, lenovo, a269i, safe]\n",
      "653059           [what, is, the, longest, river, of, india]\n",
      "653060    [what, should, you, do, if, somehow, you, find...\n",
      "Name: question_text, Length: 653061, dtype: object\n"
     ]
    }
   ],
   "source": [
    "import re\n",
    "def tokenize(text):\n",
    "    tokens = re.split('\\W+', text)\n",
    "    return tokens\n",
    "df_text['remove'] = df_text['removing'].apply(lambda x: tokenize(x.lower()))\n",
    "print(df_text['remove'])\n",
    "test_df_text['remove'] = test_df_text['removing'].apply(lambda x: tokenize(x.lower()))\n",
    "print(test_df_text['remove'])"
   ]
  },
  {
   "cell_type": "markdown",
   "id": "6dfdd406",
   "metadata": {},
   "source": [
    "#### 3) Removing Stopwords"
   ]
  },
  {
   "cell_type": "code",
   "execution_count": 26,
   "id": "fe069d9d",
   "metadata": {},
   "outputs": [
    {
     "name": "stderr",
     "output_type": "stream",
     "text": [
      "[nltk_data] Downloading package stopwords to\n",
      "[nltk_data]     /Users/manaswitha/nltk_data...\n",
      "[nltk_data]   Package stopwords is already up-to-date!\n"
     ]
    },
    {
     "name": "stdout",
     "output_type": "stream",
     "text": [
      "0                                         [role, lua, civ4]\n",
      "1            [important, chapters, kannada, 10, icse, 2018]\n",
      "2                      [musicians, get, royalties, youtube]\n",
      "3         [difference, scaling, social, enterprises, soc...\n",
      "4          [elevators, go, super, slow, right, doors, open]\n",
      "                                ...                        \n",
      "653056    [coaching, centre, best, delhi, ias, preparation]\n",
      "653057    [api, check, cibil, score, download, credit, r...\n",
      "653058    [paranormal, shows, spirits, talk, mediums, us...\n",
      "653059                 [josh, gordon, well, developed, abs]\n",
      "653060                     [many, ways, methane, extracted]\n",
      "Name: question_text, Length: 653061, dtype: object\n",
      "0                                      [fish, tank, cloudy]\n",
      "1                      [aap, supportersleaders, hypocrites]\n",
      "2         [still, get, ticket, shut, car, cop, flips, li...\n",
      "3         [liberal, caring, person, want, stay, country,...\n",
      "4                           [know, got, pc, using, anydesk]\n",
      "                                ...                        \n",
      "653056    [directly, apply, facebook, market, specialist...\n",
      "653057                           [remind, physics, concept]\n",
      "653058                       [rooting, lenovo, a269i, safe]\n",
      "653059                              [longest, river, india]\n",
      "653060                  [somehow, find, outside, hurricane]\n",
      "Name: question_text, Length: 653061, dtype: object\n"
     ]
    }
   ],
   "source": [
    "nltk.download('stopwords')\n",
    "stopword = nltk.corpus.stopwords.words('english')\n",
    "def remove_stopwords(list):\n",
    "    text = [word for word in list if word not in stopword]\n",
    "    return text\n",
    "df_text['stop'] = df_text['remove'].apply(lambda x: remove_stopwords(x))\n",
    "print(df_text['stop'])\n",
    "test_df_text['stop'] = test_df_text['remove'].apply(lambda x: remove_stopwords(x))\n",
    "print(test_df_text['stop'])"
   ]
  },
  {
   "cell_type": "markdown",
   "id": "6c0ea72c",
   "metadata": {},
   "source": [
    "#### 4) Stemming"
   ]
  },
  {
   "cell_type": "raw",
   "id": "5eac6b15",
   "metadata": {},
   "source": [
    "ps = nltk.PorterStemmer()\n",
    "def stemming(lists):\n",
    "    text = [ps.stem(word) for word in lists]\n",
    "    return text\n",
    "df_text['start'] = df_text['stop'].apply(lambda x: stemming(x))\n",
    "print(df_text['start'])\n",
    "test_df_text['start'] = test_df_text['stop'].apply(lambda x: stemming(x))\n",
    "print(test_df_text['start'])"
   ]
  },
  {
   "cell_type": "markdown",
   "id": "22621263",
   "metadata": {},
   "source": [
    "#### 5) Lemmatizing"
   ]
  },
  {
   "cell_type": "code",
   "execution_count": 27,
   "id": "8bd3b163",
   "metadata": {},
   "outputs": [
    {
     "name": "stdout",
     "output_type": "stream",
     "text": [
      "0                                         [role, lua, civ4]\n",
      "1             [important, chapter, kannada, 10, icse, 2018]\n",
      "2                         [musician, get, royalty, youtube]\n",
      "3         [difference, scaling, social, enterprise, soci...\n",
      "4            [elevator, go, super, slow, right, door, open]\n",
      "                                ...                        \n",
      "653056     [coaching, centre, best, delhi, ia, preparation]\n",
      "653057    [api, check, cibil, score, download, credit, r...\n",
      "653058    [paranormal, show, spirit, talk, medium, using...\n",
      "653059                  [josh, gordon, well, developed, ab]\n",
      "653060                      [many, way, methane, extracted]\n",
      "Name: question_text, Length: 653061, dtype: object\n",
      "0                                      [fish, tank, cloudy]\n",
      "1                       [aap, supportersleaders, hypocrite]\n",
      "2         [still, get, ticket, shut, car, cop, flip, light]\n",
      "3         [liberal, caring, person, want, stay, country,...\n",
      "4                           [know, got, pc, using, anydesk]\n",
      "                                ...                        \n",
      "653056    [directly, apply, facebook, market, specialist...\n",
      "653057                            [remind, physic, concept]\n",
      "653058                       [rooting, lenovo, a269i, safe]\n",
      "653059                              [longest, river, india]\n",
      "653060                  [somehow, find, outside, hurricane]\n",
      "Name: question_text, Length: 653061, dtype: object\n"
     ]
    }
   ],
   "source": [
    "wn = nltk.WordNetLemmatizer()\n",
    "def lemmatizing(list):\n",
    "    text = [wn.lemmatize(word) for word in list]\n",
    "    return text\n",
    "df_text['finish'] = df_text['stop'].apply(lambda x: lemmatizing(x))\n",
    "print(df_text['finish'])\n",
    "test_df_text['finish'] = test_df_text['stop'].apply(lambda x: lemmatizing(x))\n",
    "print(test_df_text['finish'])"
   ]
  },
  {
   "cell_type": "code",
   "execution_count": 28,
   "id": "7c60bb6d",
   "metadata": {},
   "outputs": [],
   "source": [
    "#Joining the processed data back into a sentence for feature engineering\n",
    "text1 = ([[' '.join(i)] for i in df_text['finish']])\n",
    "test_text1 = ([[' '.join(i)] for i in test_df_text['finish']])"
   ]
  },
  {
   "cell_type": "code",
   "execution_count": 29,
   "id": "85dc31ec",
   "metadata": {},
   "outputs": [
    {
     "name": "stdout",
     "output_type": "stream",
     "text": [
      "['role lua civ4']\n",
      "['fish tank cloudy']\n"
     ]
    }
   ],
   "source": [
    "#Checking the joined data\n",
    "print(text1[0])\n",
    "print(test_text1[0])"
   ]
  },
  {
   "cell_type": "code",
   "execution_count": 30,
   "id": "0fda274c",
   "metadata": {},
   "outputs": [
    {
     "name": "stdout",
     "output_type": "stream",
     "text": [
      "0                                             role lua civ4\n",
      "1                    important chapter kannada 10 icse 2018\n",
      "2                              musician get royalty youtube\n",
      "3         difference scaling social enterprise social fr...\n",
      "4                    elevator go super slow right door open\n",
      "                                ...                        \n",
      "653056            coaching centre best delhi ia preparation\n",
      "653057    api check cibil score download credit report i...\n",
      "653058    paranormal show spirit talk medium using image...\n",
      "653059                        josh gordon well developed ab\n",
      "653060                           many way methane extracted\n",
      "Name: d, Length: 653061, dtype: object\n"
     ]
    },
    {
     "data": {
      "text/plain": [
       "653061"
      ]
     },
     "execution_count": 30,
     "metadata": {},
     "output_type": "execute_result"
    }
   ],
   "source": [
    "#Adding the processed data into the original dataframe\n",
    "df['d'] = pd.DataFrame(text1)\n",
    "df.dropna(subset = [\"d\"], inplace=True)\n",
    "print(df['d'])\n",
    "type(df)\n",
    "len(df['d'])"
   ]
  },
  {
   "cell_type": "code",
   "execution_count": 31,
   "id": "d428be6d",
   "metadata": {},
   "outputs": [
    {
     "name": "stdout",
     "output_type": "stream",
     "text": [
      "0                                          fish tank cloudy\n",
      "1                           aap supportersleaders hypocrite\n",
      "2                  still get ticket shut car cop flip light\n",
      "3         liberal caring person want stay country nine m...\n",
      "4                                 know got pc using anydesk\n",
      "                                ...                        \n",
      "653056    directly apply facebook market specialist hyde...\n",
      "653057                                remind physic concept\n",
      "653058                            rooting lenovo a269i safe\n",
      "653059                                  longest river india\n",
      "653060                       somehow find outside hurricane\n",
      "Name: d, Length: 653061, dtype: object\n"
     ]
    },
    {
     "data": {
      "text/plain": [
       "653061"
      ]
     },
     "execution_count": 31,
     "metadata": {},
     "output_type": "execute_result"
    }
   ],
   "source": [
    "test_df['d'] = pd.DataFrame(test_text1)\n",
    "test_df.dropna(subset = [\"d\"], inplace=True)\n",
    "print(test_df['d'])\n",
    "type(test_df)\n",
    "len(test_df['d'])"
   ]
  },
  {
   "cell_type": "code",
   "execution_count": 32,
   "id": "2b684b8d",
   "metadata": {},
   "outputs": [
    {
     "data": {
      "text/html": [
       "<div>\n",
       "<style scoped>\n",
       "    .dataframe tbody tr th:only-of-type {\n",
       "        vertical-align: middle;\n",
       "    }\n",
       "\n",
       "    .dataframe tbody tr th {\n",
       "        vertical-align: top;\n",
       "    }\n",
       "\n",
       "    .dataframe thead th {\n",
       "        text-align: right;\n",
       "    }\n",
       "</style>\n",
       "<table border=\"1\" class=\"dataframe\">\n",
       "  <thead>\n",
       "    <tr style=\"text-align: right;\">\n",
       "      <th></th>\n",
       "      <th>qid</th>\n",
       "      <th>question_text</th>\n",
       "      <th>d</th>\n",
       "    </tr>\n",
       "  </thead>\n",
       "  <tbody>\n",
       "    <tr>\n",
       "      <th>0</th>\n",
       "      <td>a3dee568776c08512c89</td>\n",
       "      <td>What is the role of Lua in Civ4?</td>\n",
       "      <td>role lua civ4</td>\n",
       "    </tr>\n",
       "    <tr>\n",
       "      <th>1</th>\n",
       "      <td>bdb84f519e7b46e7b7bb</td>\n",
       "      <td>What are important chapters in Kannada for 10 ...</td>\n",
       "      <td>important chapter kannada 10 icse 2018</td>\n",
       "    </tr>\n",
       "    <tr>\n",
       "      <th>2</th>\n",
       "      <td>29c88db470e2eb5c97ad</td>\n",
       "      <td>Do musicians get royalties from YouTube?</td>\n",
       "      <td>musician get royalty youtube</td>\n",
       "    </tr>\n",
       "    <tr>\n",
       "      <th>3</th>\n",
       "      <td>3387d99bf2c3227ae8f1</td>\n",
       "      <td>What is the difference between Scaling Social ...</td>\n",
       "      <td>difference scaling social enterprise social fr...</td>\n",
       "    </tr>\n",
       "    <tr>\n",
       "      <th>4</th>\n",
       "      <td>e79fa5038f765d0f2e7e</td>\n",
       "      <td>Why do elevators go super slow right before th...</td>\n",
       "      <td>elevator go super slow right door open</td>\n",
       "    </tr>\n",
       "  </tbody>\n",
       "</table>\n",
       "</div>"
      ],
      "text/plain": [
       "                    qid                                      question_text  \\\n",
       "0  a3dee568776c08512c89                   What is the role of Lua in Civ4?   \n",
       "1  bdb84f519e7b46e7b7bb  What are important chapters in Kannada for 10 ...   \n",
       "2  29c88db470e2eb5c97ad           Do musicians get royalties from YouTube?   \n",
       "3  3387d99bf2c3227ae8f1  What is the difference between Scaling Social ...   \n",
       "4  e79fa5038f765d0f2e7e  Why do elevators go super slow right before th...   \n",
       "\n",
       "                                                   d  \n",
       "0                                      role lua civ4  \n",
       "1             important chapter kannada 10 icse 2018  \n",
       "2                       musician get royalty youtube  \n",
       "3  difference scaling social enterprise social fr...  \n",
       "4             elevator go super slow right door open  "
      ]
     },
     "execution_count": 32,
     "metadata": {},
     "output_type": "execute_result"
    }
   ],
   "source": [
    "df.head()"
   ]
  },
  {
   "cell_type": "code",
   "execution_count": 33,
   "id": "127d3901",
   "metadata": {},
   "outputs": [
    {
     "data": {
      "text/html": [
       "<div>\n",
       "<style scoped>\n",
       "    .dataframe tbody tr th:only-of-type {\n",
       "        vertical-align: middle;\n",
       "    }\n",
       "\n",
       "    .dataframe tbody tr th {\n",
       "        vertical-align: top;\n",
       "    }\n",
       "\n",
       "    .dataframe thead th {\n",
       "        text-align: right;\n",
       "    }\n",
       "</style>\n",
       "<table border=\"1\" class=\"dataframe\">\n",
       "  <thead>\n",
       "    <tr style=\"text-align: right;\">\n",
       "      <th></th>\n",
       "      <th>qid</th>\n",
       "      <th>question_text</th>\n",
       "      <th>d</th>\n",
       "    </tr>\n",
       "  </thead>\n",
       "  <tbody>\n",
       "    <tr>\n",
       "      <th>0</th>\n",
       "      <td>0a824224322f0a36025f</td>\n",
       "      <td>Why is my fish tank so cloudy?</td>\n",
       "      <td>fish tank cloudy</td>\n",
       "    </tr>\n",
       "    <tr>\n",
       "      <th>1</th>\n",
       "      <td>28af14c4e4777ce1273e</td>\n",
       "      <td>Are AAP supporters/leaders hypocrites?</td>\n",
       "      <td>aap supportersleaders hypocrite</td>\n",
       "    </tr>\n",
       "    <tr>\n",
       "      <th>2</th>\n",
       "      <td>6892a52c51103dd95044</td>\n",
       "      <td>Can you still get a ticket if you shut off you...</td>\n",
       "      <td>still get ticket shut car cop flip light</td>\n",
       "    </tr>\n",
       "    <tr>\n",
       "      <th>3</th>\n",
       "      <td>badd9e8886d73fc1fe4e</td>\n",
       "      <td>Why should any liberal or caring person want t...</td>\n",
       "      <td>liberal caring person want stay country nine m...</td>\n",
       "    </tr>\n",
       "    <tr>\n",
       "      <th>4</th>\n",
       "      <td>4ef178f82a465e4804ae</td>\n",
       "      <td>How can I know who got into my PC using anydesk?</td>\n",
       "      <td>know got pc using anydesk</td>\n",
       "    </tr>\n",
       "  </tbody>\n",
       "</table>\n",
       "</div>"
      ],
      "text/plain": [
       "                    qid                                      question_text  \\\n",
       "0  0a824224322f0a36025f                     Why is my fish tank so cloudy?   \n",
       "1  28af14c4e4777ce1273e             Are AAP supporters/leaders hypocrites?   \n",
       "2  6892a52c51103dd95044  Can you still get a ticket if you shut off you...   \n",
       "3  badd9e8886d73fc1fe4e  Why should any liberal or caring person want t...   \n",
       "4  4ef178f82a465e4804ae   How can I know who got into my PC using anydesk?   \n",
       "\n",
       "                                                   d  \n",
       "0                                   fish tank cloudy  \n",
       "1                    aap supportersleaders hypocrite  \n",
       "2           still get ticket shut car cop flip light  \n",
       "3  liberal caring person want stay country nine m...  \n",
       "4                          know got pc using anydesk  "
      ]
     },
     "execution_count": 33,
     "metadata": {},
     "output_type": "execute_result"
    }
   ],
   "source": [
    "test_df.head()"
   ]
  },
  {
   "cell_type": "markdown",
   "id": "3cca97a0",
   "metadata": {},
   "source": [
    "### Feature engineering"
   ]
  },
  {
   "cell_type": "markdown",
   "id": "9a926a00",
   "metadata": {},
   "source": [
    "#### 1) Sentiment analysis"
   ]
  },
  {
   "cell_type": "code",
   "execution_count": 34,
   "id": "c295b0a7",
   "metadata": {},
   "outputs": [
    {
     "data": {
      "text/html": [
       "<div>\n",
       "<style scoped>\n",
       "    .dataframe tbody tr th:only-of-type {\n",
       "        vertical-align: middle;\n",
       "    }\n",
       "\n",
       "    .dataframe tbody tr th {\n",
       "        vertical-align: top;\n",
       "    }\n",
       "\n",
       "    .dataframe thead th {\n",
       "        text-align: right;\n",
       "    }\n",
       "</style>\n",
       "<table border=\"1\" class=\"dataframe\">\n",
       "  <thead>\n",
       "    <tr style=\"text-align: right;\">\n",
       "      <th></th>\n",
       "      <th>qid</th>\n",
       "      <th>question_text</th>\n",
       "      <th>d</th>\n",
       "      <th>sentiment</th>\n",
       "    </tr>\n",
       "  </thead>\n",
       "  <tbody>\n",
       "    <tr>\n",
       "      <th>0</th>\n",
       "      <td>a3dee568776c08512c89</td>\n",
       "      <td>What is the role of Lua in Civ4?</td>\n",
       "      <td>role lua civ4</td>\n",
       "      <td>0.000000</td>\n",
       "    </tr>\n",
       "    <tr>\n",
       "      <th>1</th>\n",
       "      <td>bdb84f519e7b46e7b7bb</td>\n",
       "      <td>What are important chapters in Kannada for 10 ...</td>\n",
       "      <td>important chapter kannada 10 icse 2018</td>\n",
       "      <td>0.400000</td>\n",
       "    </tr>\n",
       "    <tr>\n",
       "      <th>2</th>\n",
       "      <td>29c88db470e2eb5c97ad</td>\n",
       "      <td>Do musicians get royalties from YouTube?</td>\n",
       "      <td>musician get royalty youtube</td>\n",
       "      <td>0.000000</td>\n",
       "    </tr>\n",
       "    <tr>\n",
       "      <th>3</th>\n",
       "      <td>3387d99bf2c3227ae8f1</td>\n",
       "      <td>What is the difference between Scaling Social ...</td>\n",
       "      <td>difference scaling social enterprise social fr...</td>\n",
       "      <td>0.033333</td>\n",
       "    </tr>\n",
       "    <tr>\n",
       "      <th>4</th>\n",
       "      <td>e79fa5038f765d0f2e7e</td>\n",
       "      <td>Why do elevators go super slow right before th...</td>\n",
       "      <td>elevator go super slow right door open</td>\n",
       "      <td>0.079762</td>\n",
       "    </tr>\n",
       "  </tbody>\n",
       "</table>\n",
       "</div>"
      ],
      "text/plain": [
       "                    qid                                      question_text  \\\n",
       "0  a3dee568776c08512c89                   What is the role of Lua in Civ4?   \n",
       "1  bdb84f519e7b46e7b7bb  What are important chapters in Kannada for 10 ...   \n",
       "2  29c88db470e2eb5c97ad           Do musicians get royalties from YouTube?   \n",
       "3  3387d99bf2c3227ae8f1  What is the difference between Scaling Social ...   \n",
       "4  e79fa5038f765d0f2e7e  Why do elevators go super slow right before th...   \n",
       "\n",
       "                                                   d  sentiment  \n",
       "0                                      role lua civ4   0.000000  \n",
       "1             important chapter kannada 10 icse 2018   0.400000  \n",
       "2                       musician get royalty youtube   0.000000  \n",
       "3  difference scaling social enterprise social fr...   0.033333  \n",
       "4             elevator go super slow right door open   0.079762  "
      ]
     },
     "execution_count": 34,
     "metadata": {},
     "output_type": "execute_result"
    }
   ],
   "source": [
    "from textblob import TextBlob\n",
    "df[\"sentiment\"] = df['d'].apply(lambda x: TextBlob(x).sentiment.polarity)\n",
    "df.head()"
   ]
  },
  {
   "cell_type": "code",
   "execution_count": 35,
   "id": "d04aa8c2",
   "metadata": {},
   "outputs": [
    {
     "data": {
      "text/html": [
       "<div>\n",
       "<style scoped>\n",
       "    .dataframe tbody tr th:only-of-type {\n",
       "        vertical-align: middle;\n",
       "    }\n",
       "\n",
       "    .dataframe tbody tr th {\n",
       "        vertical-align: top;\n",
       "    }\n",
       "\n",
       "    .dataframe thead th {\n",
       "        text-align: right;\n",
       "    }\n",
       "</style>\n",
       "<table border=\"1\" class=\"dataframe\">\n",
       "  <thead>\n",
       "    <tr style=\"text-align: right;\">\n",
       "      <th></th>\n",
       "      <th>qid</th>\n",
       "      <th>question_text</th>\n",
       "      <th>d</th>\n",
       "      <th>sentiment</th>\n",
       "    </tr>\n",
       "  </thead>\n",
       "  <tbody>\n",
       "    <tr>\n",
       "      <th>0</th>\n",
       "      <td>0a824224322f0a36025f</td>\n",
       "      <td>Why is my fish tank so cloudy?</td>\n",
       "      <td>fish tank cloudy</td>\n",
       "      <td>0.0</td>\n",
       "    </tr>\n",
       "    <tr>\n",
       "      <th>1</th>\n",
       "      <td>28af14c4e4777ce1273e</td>\n",
       "      <td>Are AAP supporters/leaders hypocrites?</td>\n",
       "      <td>aap supportersleaders hypocrite</td>\n",
       "      <td>0.0</td>\n",
       "    </tr>\n",
       "    <tr>\n",
       "      <th>2</th>\n",
       "      <td>6892a52c51103dd95044</td>\n",
       "      <td>Can you still get a ticket if you shut off you...</td>\n",
       "      <td>still get ticket shut car cop flip light</td>\n",
       "      <td>0.4</td>\n",
       "    </tr>\n",
       "    <tr>\n",
       "      <th>3</th>\n",
       "      <td>badd9e8886d73fc1fe4e</td>\n",
       "      <td>Why should any liberal or caring person want t...</td>\n",
       "      <td>liberal caring person want stay country nine m...</td>\n",
       "      <td>0.0</td>\n",
       "    </tr>\n",
       "    <tr>\n",
       "      <th>4</th>\n",
       "      <td>4ef178f82a465e4804ae</td>\n",
       "      <td>How can I know who got into my PC using anydesk?</td>\n",
       "      <td>know got pc using anydesk</td>\n",
       "      <td>0.0</td>\n",
       "    </tr>\n",
       "  </tbody>\n",
       "</table>\n",
       "</div>"
      ],
      "text/plain": [
       "                    qid                                      question_text  \\\n",
       "0  0a824224322f0a36025f                     Why is my fish tank so cloudy?   \n",
       "1  28af14c4e4777ce1273e             Are AAP supporters/leaders hypocrites?   \n",
       "2  6892a52c51103dd95044  Can you still get a ticket if you shut off you...   \n",
       "3  badd9e8886d73fc1fe4e  Why should any liberal or caring person want t...   \n",
       "4  4ef178f82a465e4804ae   How can I know who got into my PC using anydesk?   \n",
       "\n",
       "                                                   d  sentiment  \n",
       "0                                   fish tank cloudy        0.0  \n",
       "1                    aap supportersleaders hypocrite        0.0  \n",
       "2           still get ticket shut car cop flip light        0.4  \n",
       "3  liberal caring person want stay country nine m...        0.0  \n",
       "4                          know got pc using anydesk        0.0  "
      ]
     },
     "execution_count": 35,
     "metadata": {},
     "output_type": "execute_result"
    }
   ],
   "source": [
    "from textblob import TextBlob\n",
    "test_df[\"sentiment\"] = test_df['d'].apply(lambda x: TextBlob(x).sentiment.polarity)\n",
    "test_df.head()"
   ]
  },
  {
   "cell_type": "markdown",
   "id": "f7223b15",
   "metadata": {},
   "source": [
    "#### 2) Word count\n",
    "#### 3) Character count\n",
    "#### 4) Sentence count\n",
    "#### 5) Average word length\n",
    "#### 6) Average sentence length"
   ]
  },
  {
   "cell_type": "code",
   "execution_count": 36,
   "id": "184d5230",
   "metadata": {},
   "outputs": [
    {
     "data": {
      "text/html": [
       "<div>\n",
       "<style scoped>\n",
       "    .dataframe tbody tr th:only-of-type {\n",
       "        vertical-align: middle;\n",
       "    }\n",
       "\n",
       "    .dataframe tbody tr th {\n",
       "        vertical-align: top;\n",
       "    }\n",
       "\n",
       "    .dataframe thead th {\n",
       "        text-align: right;\n",
       "    }\n",
       "</style>\n",
       "<table border=\"1\" class=\"dataframe\">\n",
       "  <thead>\n",
       "    <tr style=\"text-align: right;\">\n",
       "      <th></th>\n",
       "      <th>qid</th>\n",
       "      <th>question_text</th>\n",
       "      <th>d</th>\n",
       "      <th>sentiment</th>\n",
       "      <th>word_count</th>\n",
       "      <th>char_count</th>\n",
       "      <th>sentence_count</th>\n",
       "      <th>avg_word_length</th>\n",
       "      <th>avg_sentence_length</th>\n",
       "    </tr>\n",
       "  </thead>\n",
       "  <tbody>\n",
       "    <tr>\n",
       "      <th>0</th>\n",
       "      <td>a3dee568776c08512c89</td>\n",
       "      <td>What is the role of Lua in Civ4?</td>\n",
       "      <td>role lua civ4</td>\n",
       "      <td>0.000000</td>\n",
       "      <td>3</td>\n",
       "      <td>11</td>\n",
       "      <td>1</td>\n",
       "      <td>3.666667</td>\n",
       "      <td>3.0</td>\n",
       "    </tr>\n",
       "    <tr>\n",
       "      <th>1</th>\n",
       "      <td>bdb84f519e7b46e7b7bb</td>\n",
       "      <td>What are important chapters in Kannada for 10 ...</td>\n",
       "      <td>important chapter kannada 10 icse 2018</td>\n",
       "      <td>0.400000</td>\n",
       "      <td>6</td>\n",
       "      <td>33</td>\n",
       "      <td>1</td>\n",
       "      <td>5.500000</td>\n",
       "      <td>6.0</td>\n",
       "    </tr>\n",
       "    <tr>\n",
       "      <th>2</th>\n",
       "      <td>29c88db470e2eb5c97ad</td>\n",
       "      <td>Do musicians get royalties from YouTube?</td>\n",
       "      <td>musician get royalty youtube</td>\n",
       "      <td>0.000000</td>\n",
       "      <td>4</td>\n",
       "      <td>25</td>\n",
       "      <td>1</td>\n",
       "      <td>6.250000</td>\n",
       "      <td>4.0</td>\n",
       "    </tr>\n",
       "    <tr>\n",
       "      <th>3</th>\n",
       "      <td>3387d99bf2c3227ae8f1</td>\n",
       "      <td>What is the difference between Scaling Social ...</td>\n",
       "      <td>difference scaling social enterprise social fr...</td>\n",
       "      <td>0.033333</td>\n",
       "      <td>6</td>\n",
       "      <td>50</td>\n",
       "      <td>1</td>\n",
       "      <td>8.333333</td>\n",
       "      <td>6.0</td>\n",
       "    </tr>\n",
       "    <tr>\n",
       "      <th>4</th>\n",
       "      <td>e79fa5038f765d0f2e7e</td>\n",
       "      <td>Why do elevators go super slow right before th...</td>\n",
       "      <td>elevator go super slow right door open</td>\n",
       "      <td>0.079762</td>\n",
       "      <td>7</td>\n",
       "      <td>32</td>\n",
       "      <td>1</td>\n",
       "      <td>4.571429</td>\n",
       "      <td>7.0</td>\n",
       "    </tr>\n",
       "  </tbody>\n",
       "</table>\n",
       "</div>"
      ],
      "text/plain": [
       "                    qid                                      question_text  \\\n",
       "0  a3dee568776c08512c89                   What is the role of Lua in Civ4?   \n",
       "1  bdb84f519e7b46e7b7bb  What are important chapters in Kannada for 10 ...   \n",
       "2  29c88db470e2eb5c97ad           Do musicians get royalties from YouTube?   \n",
       "3  3387d99bf2c3227ae8f1  What is the difference between Scaling Social ...   \n",
       "4  e79fa5038f765d0f2e7e  Why do elevators go super slow right before th...   \n",
       "\n",
       "                                                   d  sentiment  word_count  \\\n",
       "0                                      role lua civ4   0.000000           3   \n",
       "1             important chapter kannada 10 icse 2018   0.400000           6   \n",
       "2                       musician get royalty youtube   0.000000           4   \n",
       "3  difference scaling social enterprise social fr...   0.033333           6   \n",
       "4             elevator go super slow right door open   0.079762           7   \n",
       "\n",
       "   char_count  sentence_count  avg_word_length  avg_sentence_length  \n",
       "0          11               1         3.666667                  3.0  \n",
       "1          33               1         5.500000                  6.0  \n",
       "2          25               1         6.250000                  4.0  \n",
       "3          50               1         8.333333                  6.0  \n",
       "4          32               1         4.571429                  7.0  "
      ]
     },
     "execution_count": 36,
     "metadata": {},
     "output_type": "execute_result"
    }
   ],
   "source": [
    "df['word_count'] = df[\"d\"].apply(lambda x: len(str(x).split(\" \")))\n",
    "df['char_count'] = df[\"d\"].apply(lambda x: sum(len(word) for word in str(x).split(\" \")))\n",
    "df['sentence_count'] = df[\"d\"].apply(lambda x: len(str(x).split(\".\")))\n",
    "df['avg_word_length'] = df['char_count'] / df['word_count']\n",
    "df['avg_sentence_length'] = df['word_count'] / df['sentence_count']\n",
    "df.head()"
   ]
  },
  {
   "cell_type": "code",
   "execution_count": 37,
   "id": "1bc7eb12",
   "metadata": {},
   "outputs": [
    {
     "data": {
      "text/html": [
       "<div>\n",
       "<style scoped>\n",
       "    .dataframe tbody tr th:only-of-type {\n",
       "        vertical-align: middle;\n",
       "    }\n",
       "\n",
       "    .dataframe tbody tr th {\n",
       "        vertical-align: top;\n",
       "    }\n",
       "\n",
       "    .dataframe thead th {\n",
       "        text-align: right;\n",
       "    }\n",
       "</style>\n",
       "<table border=\"1\" class=\"dataframe\">\n",
       "  <thead>\n",
       "    <tr style=\"text-align: right;\">\n",
       "      <th></th>\n",
       "      <th>qid</th>\n",
       "      <th>question_text</th>\n",
       "      <th>d</th>\n",
       "      <th>sentiment</th>\n",
       "      <th>word_count</th>\n",
       "      <th>char_count</th>\n",
       "      <th>sentence_count</th>\n",
       "      <th>avg_word_length</th>\n",
       "      <th>avg_sentence_length</th>\n",
       "    </tr>\n",
       "  </thead>\n",
       "  <tbody>\n",
       "    <tr>\n",
       "      <th>0</th>\n",
       "      <td>0a824224322f0a36025f</td>\n",
       "      <td>Why is my fish tank so cloudy?</td>\n",
       "      <td>fish tank cloudy</td>\n",
       "      <td>0.0</td>\n",
       "      <td>3</td>\n",
       "      <td>14</td>\n",
       "      <td>1</td>\n",
       "      <td>4.666667</td>\n",
       "      <td>3.0</td>\n",
       "    </tr>\n",
       "    <tr>\n",
       "      <th>1</th>\n",
       "      <td>28af14c4e4777ce1273e</td>\n",
       "      <td>Are AAP supporters/leaders hypocrites?</td>\n",
       "      <td>aap supportersleaders hypocrite</td>\n",
       "      <td>0.0</td>\n",
       "      <td>3</td>\n",
       "      <td>29</td>\n",
       "      <td>1</td>\n",
       "      <td>9.666667</td>\n",
       "      <td>3.0</td>\n",
       "    </tr>\n",
       "    <tr>\n",
       "      <th>2</th>\n",
       "      <td>6892a52c51103dd95044</td>\n",
       "      <td>Can you still get a ticket if you shut off you...</td>\n",
       "      <td>still get ticket shut car cop flip light</td>\n",
       "      <td>0.4</td>\n",
       "      <td>8</td>\n",
       "      <td>33</td>\n",
       "      <td>1</td>\n",
       "      <td>4.125000</td>\n",
       "      <td>8.0</td>\n",
       "    </tr>\n",
       "    <tr>\n",
       "      <th>3</th>\n",
       "      <td>badd9e8886d73fc1fe4e</td>\n",
       "      <td>Why should any liberal or caring person want t...</td>\n",
       "      <td>liberal caring person want stay country nine m...</td>\n",
       "      <td>0.0</td>\n",
       "      <td>9</td>\n",
       "      <td>48</td>\n",
       "      <td>1</td>\n",
       "      <td>5.333333</td>\n",
       "      <td>9.0</td>\n",
       "    </tr>\n",
       "    <tr>\n",
       "      <th>4</th>\n",
       "      <td>4ef178f82a465e4804ae</td>\n",
       "      <td>How can I know who got into my PC using anydesk?</td>\n",
       "      <td>know got pc using anydesk</td>\n",
       "      <td>0.0</td>\n",
       "      <td>5</td>\n",
       "      <td>21</td>\n",
       "      <td>1</td>\n",
       "      <td>4.200000</td>\n",
       "      <td>5.0</td>\n",
       "    </tr>\n",
       "  </tbody>\n",
       "</table>\n",
       "</div>"
      ],
      "text/plain": [
       "                    qid                                      question_text  \\\n",
       "0  0a824224322f0a36025f                     Why is my fish tank so cloudy?   \n",
       "1  28af14c4e4777ce1273e             Are AAP supporters/leaders hypocrites?   \n",
       "2  6892a52c51103dd95044  Can you still get a ticket if you shut off you...   \n",
       "3  badd9e8886d73fc1fe4e  Why should any liberal or caring person want t...   \n",
       "4  4ef178f82a465e4804ae   How can I know who got into my PC using anydesk?   \n",
       "\n",
       "                                                   d  sentiment  word_count  \\\n",
       "0                                   fish tank cloudy        0.0           3   \n",
       "1                    aap supportersleaders hypocrite        0.0           3   \n",
       "2           still get ticket shut car cop flip light        0.4           8   \n",
       "3  liberal caring person want stay country nine m...        0.0           9   \n",
       "4                          know got pc using anydesk        0.0           5   \n",
       "\n",
       "   char_count  sentence_count  avg_word_length  avg_sentence_length  \n",
       "0          14               1         4.666667                  3.0  \n",
       "1          29               1         9.666667                  3.0  \n",
       "2          33               1         4.125000                  8.0  \n",
       "3          48               1         5.333333                  9.0  \n",
       "4          21               1         4.200000                  5.0  "
      ]
     },
     "execution_count": 37,
     "metadata": {},
     "output_type": "execute_result"
    }
   ],
   "source": [
    "test_df['word_count'] = test_df[\"d\"].apply(lambda x: len(str(x).split(\" \")))\n",
    "test_df['char_count'] = test_df[\"d\"].apply(lambda x: sum(len(word) for word in str(x).split(\" \")))\n",
    "test_df['sentence_count'] = test_df[\"d\"].apply(lambda x: len(str(x).split(\".\")))\n",
    "test_df['avg_word_length'] = test_df['char_count'] / test_df['word_count']\n",
    "test_df['avg_sentence_length'] = test_df['word_count'] / test_df['sentence_count']\n",
    "test_df.head()"
   ]
  },
  {
   "cell_type": "code",
   "execution_count": 38,
   "id": "1fef89ed",
   "metadata": {},
   "outputs": [
    {
     "name": "stdout",
     "output_type": "stream",
     "text": [
      "0                          What is the role of Lua in Civ4?\n",
      "1         What are important chapters in Kannada for 10 ...\n",
      "2                  Do musicians get royalties from YouTube?\n",
      "3         What is the difference between Scaling Social ...\n",
      "4         Why do elevators go super slow right before th...\n",
      "                                ...                        \n",
      "653056    Which coaching centre is best in Delhi for IAS...\n",
      "653057    Is their any API to check CIBIL score and down...\n",
      "653058    In paranormal shows, why do spirits talk to me...\n",
      "653059    How does Josh Gordon have such well developed ...\n",
      "653060           In how many ways methane can be extracted?\n",
      "Name: question_text, Length: 653061, dtype: object\n",
      "0                            Why is my fish tank so cloudy?\n",
      "1                    Are AAP supporters/leaders hypocrites?\n",
      "2         Can you still get a ticket if you shut off you...\n",
      "3         Why should any liberal or caring person want t...\n",
      "4          How can I know who got into my PC using anydesk?\n",
      "                                ...                        \n",
      "653056    Can we directly apply for Facebook market spec...\n",
      "653057                What we do to remind physics concept?\n",
      "653058                        Is rooting Lenovo A269i safe?\n",
      "653059                  What is the longest river of India?\n",
      "653060    What should you do if somehow you find yoursel...\n",
      "Name: question_text, Length: 653061, dtype: object\n"
     ]
    }
   ],
   "source": [
    "df_text = df['question_text']\n",
    "print(df_text)\n",
    "test_df_text = test_df['question_text']\n",
    "print(test_df_text)"
   ]
  },
  {
   "cell_type": "markdown",
   "id": "6d498fd9",
   "metadata": {},
   "source": [
    "#### 7) Number of puncuation marks in a sentence"
   ]
  },
  {
   "cell_type": "code",
   "execution_count": 39,
   "id": "6d26804f",
   "metadata": {},
   "outputs": [],
   "source": [
    "text = []\n",
    "k = 0\n",
    "length = []\n",
    "punc = []\n",
    "for i in df_text:\n",
    "    text.append(i)\n",
    "    res = len(i.split())\n",
    "    length.append(float(str(res))/8.0)\n",
    "    count = 0;\n",
    "    for j in range (0, len (i)):   \n",
    "    #Checks whether given character is a punctuation mark  \n",
    "        if i[j] in ('!', \",\" ,\"\\'\" ,\";\" ,\"\\\"\", \".\", \"-\" ,\"?\"):  \n",
    "            count = count + 1;  \n",
    "    punc.append(float(count))"
   ]
  },
  {
   "cell_type": "code",
   "execution_count": 40,
   "id": "1aaa553b",
   "metadata": {},
   "outputs": [],
   "source": [
    "test_text = []\n",
    "k = 0\n",
    "test_length = []\n",
    "test_punc = []\n",
    "for i in test_df_text:\n",
    "    text.append(i)\n",
    "    res = len(i.split())\n",
    "    test_length.append(float(str(res))/8.0)\n",
    "    count = 0;\n",
    "    for j in range (0, len (i)):   \n",
    "    #Checks whether given character is a punctuation mark  \n",
    "        if i[j] in ('!', \",\" ,\"\\'\" ,\";\" ,\"\\\"\", \".\", \"-\" ,\"?\"):  \n",
    "            count = count + 1;  \n",
    "    test_punc.append(float(count))"
   ]
  },
  {
   "cell_type": "code",
   "execution_count": 41,
   "id": "66ae37b0",
   "metadata": {
    "scrolled": true
   },
   "outputs": [],
   "source": [
    "df.pop('qid')#not needed in training \n",
    "df.pop('d')#not needed in training \n",
    "d = df.pop('question_text')#not needed in training \n",
    "df['punc'] = punc\n",
    "df['d'] = d\n",
    "test_df.pop('qid')#not needed in training \n",
    "test_df.pop('d')#not needed in training \n",
    "test_d = test_df.pop('question_text')#not needed in training \n",
    "test_df['punc'] = test_punc\n",
    "test_df['d'] = test_d"
   ]
  },
  {
   "cell_type": "code",
   "execution_count": 42,
   "id": "ed7ab08d",
   "metadata": {},
   "outputs": [
    {
     "name": "stdout",
     "output_type": "stream",
     "text": [
      "[[0.0 3 11 ... 3.0 1.0 'What is the role of Lua in Civ4?']\n",
      " [0.4 6 33 ... 6.0 1.0\n",
      "  'What are important chapters in Kannada for 10 ICSE 2018?']\n",
      " [0.0 4 25 ... 4.0 1.0 'Do musicians get royalties from YouTube?']\n",
      " ...\n",
      " [0.0 9 51 ... 9.0 2.0\n",
      "  'In paranormal shows, why do spirits talk to mediums using images instead of words?']\n",
      " [0.1 5 25 ... 5.0 1.0\n",
      "  'How does Josh Gordon have such well developed abs?']\n",
      " [0.5 4 23 ... 4.0 1.0 'In how many ways methane can be extracted?']]\n"
     ]
    }
   ],
   "source": [
    "x = np.array(df)\n",
    "print(x)"
   ]
  },
  {
   "cell_type": "code",
   "execution_count": 43,
   "id": "8468bbf6",
   "metadata": {},
   "outputs": [
    {
     "name": "stdout",
     "output_type": "stream",
     "text": [
      "[[0.0 3 14 ... 3.0 1.0 'Why is my fish tank so cloudy?']\n",
      " [0.0 3 29 ... 3.0 1.0 'Are AAP supporters/leaders hypocrites?']\n",
      " [0.4 8 33 ... 8.0 1.0\n",
      "  'Can you still get a ticket if you shut off your car before a cop flips his lights?']\n",
      " ...\n",
      " [0.5 4 22 ... 4.0 1.0 'Is rooting Lenovo A269i safe?']\n",
      " [0.0 3 17 ... 3.0 1.0 'What is the longest river of India?']\n",
      " [0.0 4 27 ... 4.0 1.0\n",
      "  'What should you do if somehow you find yourself outside in a hurricane?']]\n"
     ]
    }
   ],
   "source": [
    "test_x = np.array(test_df)\n",
    "print(test_x)"
   ]
  },
  {
   "cell_type": "markdown",
   "id": "ee80921e",
   "metadata": {},
   "source": [
    "### Standardizing all the extra featues which we added "
   ]
  },
  {
   "cell_type": "code",
   "execution_count": 49,
   "id": "1ca22f17",
   "metadata": {},
   "outputs": [],
   "source": [
    "from sklearn.preprocessing import StandardScaler\n",
    "sc_X = StandardScaler()\n",
    "x[:,[0]] = sc_X.fit_transform(x[:,[0]])\n",
    "x[:,[1]] = sc_X.fit_transform(x[:,[1]])\n",
    "x[:,[2]] = sc_X.fit_transform(x[:,[2]])\n",
    "x[:,[3]] = sc_X.fit_transform(x[:,[3]])\n",
    "x[:,[4]] = sc_X.fit_transform(x[:,[4]])\n",
    "x[:,[5]] = sc_X.fit_transform(x[:,[5]])\n",
    "x[:,[6]] = sc_X.fit_transform(x[:,[6]])"
   ]
  },
  {
   "cell_type": "code",
   "execution_count": 45,
   "id": "dce12c16",
   "metadata": {},
   "outputs": [],
   "source": [
    "from sklearn.preprocessing import StandardScaler\n",
    "sc_X = StandardScaler()\n",
    "test_x[:,[0]] = sc_X.fit_transform(test_x[:,[0]])\n",
    "test_x[:,[1]] = sc_X.fit_transform(test_x[:,[1]])\n",
    "test_x[:,[2]] = sc_X.fit_transform(test_x[:,[2]])\n",
    "test_x[:,[3]] = sc_X.fit_transform(test_x[:,[3]])\n",
    "test_x[:,[4]] = sc_X.fit_transform(test_x[:,[4]])\n",
    "test_x[:,[5]] = sc_X.fit_transform(test_x[:,[5]])\n",
    "test_x[:,[6]] = sc_X.fit_transform(test_x[:,[6]])"
   ]
  },
  {
   "cell_type": "code",
   "execution_count": 46,
   "id": "d0c2fbd9",
   "metadata": {},
   "outputs": [
    {
     "name": "stdout",
     "output_type": "stream",
     "text": [
      "[[-0.3096983141354009 -0.5023223689806728]\n",
      " [1.046231271036715 -0.5023223689806728]\n",
      " [-0.3096983141354009 -0.5023223689806728]\n",
      " ...\n",
      " [-0.3096983141354009 0.3706774676451547]\n",
      " [0.029284082157628066 -0.5023223689806728]\n",
      " [1.3852136673297437 -0.5023223689806728]]\n"
     ]
    }
   ],
   "source": [
    "print(x[:,[0,6]])"
   ]
  },
  {
   "cell_type": "code",
   "execution_count": 47,
   "id": "def83732",
   "metadata": {},
   "outputs": [
    {
     "name": "stdout",
     "output_type": "stream",
     "text": [
      "[[-0.30991896155571236 -0.501798041786955]\n",
      " [-0.30991896155571236 -0.501798041786955]\n",
      " [1.0469327976044018 -0.501798041786955]\n",
      " ...\n",
      " [1.3861457373944304 -0.501798041786955]\n",
      " [-0.30991896155571236 -0.501798041786955]\n",
      " [-0.30991896155571236 -0.501798041786955]]\n"
     ]
    }
   ],
   "source": [
    "print(test_x[:,[0,6]])"
   ]
  },
  {
   "cell_type": "markdown",
   "id": "9927901c",
   "metadata": {},
   "source": [
    "### Classification Model"
   ]
  },
  {
   "cell_type": "code",
   "execution_count": 48,
   "id": "2cedd859",
   "metadata": {},
   "outputs": [],
   "source": [
    "#Test Train data\n",
    "x_train = x\n",
    "y_train =  df_target\n",
    "x_test = test_x"
   ]
  },
  {
   "cell_type": "code",
   "execution_count": 50,
   "id": "eede27cb",
   "metadata": {},
   "outputs": [],
   "source": [
    "import numpy as np\n",
    "from sklearn.feature_extraction.text import CountVectorizer\n",
    "from sklearn.pipeline import Pipeline, FeatureUnion\n",
    "from sklearn.ensemble import RandomForestClassifier\n",
    "from sklearn.linear_model import LogisticRegression\n",
    "from sklearn.preprocessing import FunctionTransformer\n",
    "from sklearn.model_selection import GridSearchCV"
   ]
  },
  {
   "cell_type": "code",
   "execution_count": 51,
   "id": "dffbe603",
   "metadata": {},
   "outputs": [],
   "source": [
    "# Create Function Transformer to use Feature Union\n",
    "def get_numeric_data(x):\n",
    "    return [record[:-1].astype(float) for record in x]\n",
    "\n",
    "def get_text_data(x):\n",
    "    return [record[-1] for record in x]\n",
    "\n",
    "transfomer_numeric = FunctionTransformer(get_numeric_data)\n",
    "transformer_text = FunctionTransformer(get_text_data)"
   ]
  },
  {
   "cell_type": "markdown",
   "id": "ff4d7149",
   "metadata": {},
   "source": [
    "### Pipelining is used to analyze both numeric and text featues"
   ]
  },
  {
   "cell_type": "markdown",
   "id": "3e7fce44",
   "metadata": {},
   "source": [
    "#### We used a grid search to find the best logistic regression model "
   ]
  },
  {
   "cell_type": "code",
   "execution_count": 55,
   "id": "9db6ea87",
   "metadata": {},
   "outputs": [],
   "source": [
    "# Create a pipeline to concatenate Tfidf Vector and Numeric data\n",
    "# Use RandomForestClassifier as an example\n",
    "pipeline = Pipeline([\n",
    "    ('features', FeatureUnion([\n",
    "            ('numeric_features', Pipeline([\n",
    "                ('selector', transfomer_numeric)\n",
    "            ])),\n",
    "             ('text_features', Pipeline([\n",
    "                ('selector', transformer_text),\n",
    "                ('vec', CountVectorizer())\n",
    "            ]))\n",
    "         ])),\n",
    "    ('clf', LogisticRegression())\n",
    "])"
   ]
  },
  {
   "cell_type": "code",
   "execution_count": 58,
   "id": "96e4eb78",
   "metadata": {},
   "outputs": [
    {
     "name": "stdout",
     "output_type": "stream",
     "text": [
      "Fitting 5 folds for each of 8 candidates, totalling 40 fits\n"
     ]
    },
    {
     "name": "stderr",
     "output_type": "stream",
     "text": [
      "/Users/manaswitha/opt/anaconda3/lib/python3.8/site-packages/joblib/externals/loky/process_executor.py:688: UserWarning: A worker stopped while some jobs were given to the executor. This can be caused by a too short worker timeout or by a memory leak.\n",
      "  warnings.warn(\n"
     ]
    }
   ],
   "source": [
    "# Grid Search Parameters for LogiaticRegression\n",
    "#Creating a dictionary grid for grid search\n",
    "#'clf__class_weight': [{0:x, 1:1.0-x} for x in weights]\n",
    "param_grid = {'clf__class_weight':[{0:0.19, 1:0.81},{0:0.13, 1:0.87}],\n",
    "             'clf__max_iter':[5000,7000],\n",
    "             'clf__tol':[0.002,0.007],\n",
    "             'clf__intercept_scaling':[11],\n",
    "             'clf__solver':['liblinear'],\n",
    "             'clf__random_state':[10] }\n",
    "\n",
    "\n",
    "\n",
    "# Training config\n",
    "#'Accuracy' : 'accuracy'\n",
    "scoring = {'F1': 'f1_macro','Accuracy' : 'accuracy'}\n",
    "refit = 'F1'\n",
    "\n",
    "# Perform GridSearch\n",
    "rf_model = GridSearchCV(pipeline, param_grid=param_grid, cv=5, scoring=scoring,refit=refit, n_jobs=-1, return_train_score=True, verbose=1)\n",
    "rf_model.fit(x_train, y_train)\n",
    "rf_best = rf_model.best_estimator_"
   ]
  },
  {
   "cell_type": "code",
   "execution_count": 59,
   "id": "8aa9ed5b",
   "metadata": {},
   "outputs": [
    {
     "name": "stdout",
     "output_type": "stream",
     "text": [
      "Pipeline(steps=[('features',\n",
      "                 FeatureUnion(transformer_list=[('numeric_features',\n",
      "                                                 Pipeline(steps=[('selector',\n",
      "                                                                  FunctionTransformer(func=<function get_numeric_data at 0x7fbe1948c310>))])),\n",
      "                                                ('text_features',\n",
      "                                                 Pipeline(steps=[('selector',\n",
      "                                                                  FunctionTransformer(func=<function get_text_data at 0x7fbddff45ee0>)),\n",
      "                                                                 ('vec',\n",
      "                                                                  CountVectorizer())]))])),\n",
      "                ('clf',\n",
      "                 LogisticRegression(class_weight={0: 0.19, 1: 0.81},\n",
      "                                    intercept_scaling=11, max_iter=5000,\n",
      "                                    random_state=10, solver='liblinear',\n",
      "                                    tol=0.002))])\n"
     ]
    }
   ],
   "source": [
    "y_pred = rf_best.predict(x_test)\n",
    "df_param = pd.DataFrame(rf_model.cv_results_) \n",
    "print(rf_model.best_estimator_)"
   ]
  },
  {
   "cell_type": "markdown",
   "id": "a9fa0450",
   "metadata": {},
   "source": [
    "#### Other models which we tried out"
   ]
  },
  {
   "cell_type": "raw",
   "id": "8aa29b0b",
   "metadata": {},
   "source": [
    "new_df = pd.DataFrame.sparse.from_spmatrix(vector)\n",
    "test_new_df = pd.DataFrame.sparse.from_spmatrix(test_vector)"
   ]
  },
  {
   "cell_type": "raw",
   "id": "a7c1d44a",
   "metadata": {},
   "source": [
    "new_df['qid'] = df_qid\n",
    "test_new_df['qid'] = df_qid"
   ]
  },
  {
   "cell_type": "raw",
   "id": "f841fa5b",
   "metadata": {},
   "source": [
    "new_df.head()"
   ]
  },
  {
   "cell_type": "raw",
   "id": "307725a8",
   "metadata": {},
   "source": [
    "x_reducedtrain = x_train\n",
    "x_reducedtest = x_test"
   ]
  },
  {
   "cell_type": "raw",
   "id": "668437f1",
   "metadata": {},
   "source": [
    "#Suport vector classifier\n",
    "from sklearn.svm import LinearSVC\n",
    "svclassifier = LinearSVC(C=0.005,dual=False,class_weight='balanced')\n",
    "svclassifier.fit(x_reducedtrain, y_train)\n",
    "y_pred = svclassifier.predict(x_reducedtest)"
   ]
  },
  {
   "cell_type": "raw",
   "id": "44a2c4b6",
   "metadata": {},
   "source": [
    "#Logistic regression\n",
    "from sklearn.linear_model import LogisticRegression\n",
    "lrclassifier = LogisticRegression(random_state=10,max_iter=5000,class_weight='balanced')\n",
    "lrclassifier.fit(x_reducedtrain, y_train)\n",
    "y_pred = lrclassifier.predict(x_reducedtest)"
   ]
  },
  {
   "cell_type": "raw",
   "id": "fb55730e",
   "metadata": {},
   "source": [
    "from sklearn.metrics import classification_report, confusion_matrix\n",
    "print(confusion_matrix(y_test,y_pred))\n",
    "print(classification_report(y_test,y_pred))"
   ]
  },
  {
   "cell_type": "markdown",
   "id": "508f4ec8",
   "metadata": {},
   "source": [
    "### Saving the predicted target variable"
   ]
  },
  {
   "cell_type": "code",
   "execution_count": 142,
   "id": "e320b21a",
   "metadata": {},
   "outputs": [
    {
     "name": "stdout",
     "output_type": "stream",
     "text": [
      "<class 'numpy.ndarray'>\n",
      "                         qid  target\n",
      "0       0a824224322f0a36025f       0\n",
      "1       28af14c4e4777ce1273e       0\n",
      "2       6892a52c51103dd95044       0\n",
      "3       badd9e8886d73fc1fe4e       0\n",
      "4       4ef178f82a465e4804ae       0\n",
      "...                      ...     ...\n",
      "653056  c2a1f06f34b81ebf46b0       0\n",
      "653057  1062e8840a6d64d3d638       0\n",
      "653058  785bc805f28073e7f4a3       0\n",
      "653059  a0c5dfc967b11c7b3d5b       0\n",
      "653060  c8f7b7999cf971f549a5       0\n",
      "\n",
      "[653061 rows x 2 columns]\n"
     ]
    },
    {
     "data": {
      "text/plain": [
       "0    601445\n",
       "1     51616\n",
       "Name: target, dtype: int64"
      ]
     },
     "execution_count": 142,
     "metadata": {},
     "output_type": "execute_result"
    }
   ],
   "source": [
    "result = pd.read_csv(\"sample_submission.csv\")\n",
    "result_df = pd.DataFrame(result)\n",
    "print(type(x_test))\n",
    "#print(type(y_pred))\n",
    "#print(x_reducedtest['keyValue'])\n",
    "print(result_df)\n",
    "result_df['target'] = y_pred\n",
    "result_df['target'].value_counts()"
   ]
  },
  {
   "cell_type": "code",
   "execution_count": 143,
   "id": "59f21352",
   "metadata": {},
   "outputs": [],
   "source": [
    "result_df.to_csv('GridcvStandardscalar.csv',index = False)"
   ]
  }
 ],
 "metadata": {
  "kernelspec": {
   "display_name": "Python 3",
   "language": "python",
   "name": "python3"
  },
  "language_info": {
   "codemirror_mode": {
    "name": "ipython",
    "version": 3
   },
   "file_extension": ".py",
   "mimetype": "text/x-python",
   "name": "python",
   "nbconvert_exporter": "python",
   "pygments_lexer": "ipython3",
   "version": "3.8.8"
  }
 },
 "nbformat": 4,
 "nbformat_minor": 5
}
